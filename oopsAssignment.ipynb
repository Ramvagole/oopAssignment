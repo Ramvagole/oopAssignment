{
 "cells": [
  {
   "cell_type": "code",
   "execution_count": null,
   "id": "c7e031dd-d64a-45ac-b420-6f75449580bd",
   "metadata": {},
   "outputs": [],
   "source": [
    "#Q1):-\n",
    "It displays only the relevant attributes of objects and hides the unnecessary details. \n",
    "example, when we are driving a car, we are only concerned about driving the car like start/stop the car, accelerate, break, etc."
   ]
  },
  {
   "cell_type": "code",
   "execution_count": null,
   "id": "1eff75db-f389-4501-ad7c-91bf35af97a6",
   "metadata": {},
   "outputs": [],
   "source": [
    "#Q2):-\n",
    "1.Abstraction is a way of representing some specific data.\n",
    "2.Encapsulation is a way of hiding the complexity of something and exposing only the parts you wish to expose."
   ]
  },
  {
   "cell_type": "code",
   "execution_count": null,
   "id": "64e0d0b4-0fdd-421d-9466-242a719c926d",
   "metadata": {},
   "outputs": [],
   "source": [
    "#Q3):-\n",
    "The 'abc' module in Python library provides the infrastructure for defining custom abstract base classes. \n",
    "'abc' works by marking methods of the base class as abstract. \n",
    "This is done by @absttractmethod decorator."
   ]
  },
  {
   "cell_type": "code",
   "execution_count": null,
   "id": "b5f03f4d-227c-47a6-8fbe-c853fb57b93f",
   "metadata": {},
   "outputs": [],
   "source": [
    "#Q4):-\n",
    " By using the abstract keyword for classes and interfaces"
   ]
  },
  {
   "cell_type": "code",
   "execution_count": null,
   "id": "a4904131-fb5b-4f0a-8981-c2c16b8ecf99",
   "metadata": {},
   "outputs": [],
   "source": [
    "#Q5):-\n",
    "Abstract classes cannot be instantiated, but they can be subclassed.\n",
    "When an abstract class is subclassed, the subclass usually provides implementations for all of the abstract methods in its parent class.\n",
    "However, if it does not, then the subclass must also be declared abstract ."
   ]
  }
 ],
 "metadata": {
  "kernelspec": {
   "display_name": "Python 3 (ipykernel)",
   "language": "python",
   "name": "python3"
  },
  "language_info": {
   "codemirror_mode": {
    "name": "ipython",
    "version": 3
   },
   "file_extension": ".py",
   "mimetype": "text/x-python",
   "name": "python",
   "nbconvert_exporter": "python",
   "pygments_lexer": "ipython3",
   "version": "3.10.8"
  }
 },
 "nbformat": 4,
 "nbformat_minor": 5
}
